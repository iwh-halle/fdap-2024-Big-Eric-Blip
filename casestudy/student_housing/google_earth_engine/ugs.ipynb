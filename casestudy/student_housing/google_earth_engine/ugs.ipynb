{
 "cells": [
  {
   "cell_type": "code",
   "execution_count": null,
   "metadata": {},
   "outputs": [
    {
     "data": {
      "text/html": [
       "<p>To authorize access needed by Earth Engine, open the following\n",
       "        URL in a web browser and follow the instructions:</p>\n",
       "        <p><a href=https://code.earthengine.google.com/client-auth?scopes=https%3A//www.googleapis.com/auth/earthengine%20https%3A//www.googleapis.com/auth/cloud-platform%20https%3A//www.googleapis.com/auth/devstorage.full_control&request_id=wpk8gBSrNJjj4KOSGpCPVPzepmPxXtmiaal0s13XLNI&tc=StbPCftY6AlOR6SKuX2pwj03YG1Wq56SgB0jxw7L8YQ&cc=2TOlEEY_4wSIXEFr46FMeWpNUMfPMbHBKZ58mnGMjMI>https://code.earthengine.google.com/client-auth?scopes=https%3A//www.googleapis.com/auth/earthengine%20https%3A//www.googleapis.com/auth/cloud-platform%20https%3A//www.googleapis.com/auth/devstorage.full_control&request_id=wpk8gBSrNJjj4KOSGpCPVPzepmPxXtmiaal0s13XLNI&tc=StbPCftY6AlOR6SKuX2pwj03YG1Wq56SgB0jxw7L8YQ&cc=2TOlEEY_4wSIXEFr46FMeWpNUMfPMbHBKZ58mnGMjMI</a></p>\n",
       "        <p>The authorization workflow will generate a code, which you should paste in the box below.</p>\n",
       "        "
      ],
      "text/plain": [
       "<IPython.core.display.HTML object>"
      ]
     },
     "metadata": {},
     "output_type": "display_data"
    },
    {
     "name": "stdout",
     "output_type": "stream",
     "text": [
      "\n",
      "Successfully saved authorization token.\n"
     ]
    }
   ],
   "source": [
    "import ee \n",
    "# Trigger the authentication flow.\n",
    "ee.Authenticate()\n",
    "# Initialize the library.\n",
    "ee.Initialize(project='ee-ebuehler1996')"
   ]
  },
  {
   "cell_type": "code",
   "execution_count": 45,
   "metadata": {},
   "outputs": [
    {
     "name": "stdout",
     "output_type": "stream",
     "text": [
      "  plz_code  mean_ndvi\n",
      "0    52066   0.207245\n",
      "1    52074   0.282947\n",
      "2    52070   0.200926\n",
      "3    52078   0.230341\n",
      "4    52072   0.229945\n",
      "5    52062   0.099158\n",
      "6    52076   0.283134\n",
      "7    52064   0.135038\n",
      "8    52068   0.145891\n",
      "9    52080   0.239880\n"
     ]
    }
   ],
   "source": [
    "import requests\n",
    "import json\n",
    "import ee\n",
    "import pandas as pd\n",
    "\n",
    "# Initialize the Earth Engine module\n",
    "ee.Initialize()\n",
    "\n",
    "# Fetch data from the API\n",
    "url = \"https://opendata.rhein-kreis-neuss.de/api/explore/v2.1/catalog/datasets/nrw-postleitzahlen/records?limit=20&refine=plz_name%3A%22Aachen%22\"\n",
    "response = requests.get(url)\n",
    "data = response.json()\n",
    "\n",
    "# Check if the request was successful\n",
    "if response.status_code == 200:\n",
    "    data = response.json()  # Parse the response to JSON\n",
    "else:\n",
    "    raise Exception(f\"Failed to retrieve data: {response.status_code}\")\n",
    "\n",
    "# Function to convert JSON geometry to ee.Geometry\n",
    "def json_to_ee_geometry(geometry_json):\n",
    "    coordinates = geometry_json['coordinates'][0]\n",
    "    return ee.Geometry.Polygon(coordinates)\n",
    "\n",
    "# Extract geometries and convert to ee.Geometry\n",
    "plz_geometries = {}\n",
    "for result in data['results']:\n",
    "    plz_code = result['name']\n",
    "    geometry_json = result['geometry']['geometry']\n",
    "    plz_geometries[plz_code] = json_to_ee_geometry(geometry_json)\n",
    "\n",
    "# Define a function to calculate average NDVI for a given PLZ polygon in 2020\n",
    "def calculate_average_ndvi(plz_code, geometry):\n",
    "    # Define a function to calculate NDVI\n",
    "    def calculate_ndvi(image):\n",
    "        ndvi = image.normalizedDifference(['B8', 'B4']).rename('NDVI')  # B8 is NIR and B4 is Red\n",
    "        return image.addBands(ndvi)\n",
    "\n",
    "    # Filter Sentinel-2 images for 2020 and the given geometry\n",
    "    filtered_images = ee.ImageCollection('COPERNICUS/S2') \\\n",
    "                        .filterBounds(geometry) \\\n",
    "                        .filterDate('2020-01-01', '2020-12-31') \\\n",
    "                        .map(calculate_ndvi)\n",
    "\n",
    "    # Select the NDVI band\n",
    "    ndvi_time_series = filtered_images.select('NDVI')\n",
    "\n",
    "    # Define a function to calculate mean NDVI for each image over the region of interest\n",
    "    def mean_ndvi(image):\n",
    "        mean = image.reduceRegion(\n",
    "            reducer=ee.Reducer.mean(), \n",
    "            geometry=geometry, \n",
    "            scale=10\n",
    "        ).get('NDVI')\n",
    "        return ee.Feature(None, {\n",
    "            'mean_ndvi': mean\n",
    "        })\n",
    "\n",
    "    # Map the function over the NDVI collection\n",
    "    mean_ndvi_series = ndvi_time_series.map(mean_ndvi)\n",
    "\n",
    "    # Calculate the average of the mean NDVI values\n",
    "    mean_ndvi_result = mean_ndvi_series.reduceColumns(ee.Reducer.mean(), ['mean_ndvi'])\n",
    "\n",
    "    # Get the mean NDVI value from the result\n",
    "    mean_ndvi_value = mean_ndvi_result.get('mean')\n",
    "\n",
    "    # Check if mean_ndvi_value exists\n",
    "    if mean_ndvi_value is None:\n",
    "        print(f\"Warning: No mean NDVI value found for PLZ {plz_code}.\")\n",
    "        mean_ndvi_value = None\n",
    "    else:\n",
    "        mean_ndvi_value = mean_ndvi_value.getInfo()  # Get the result from Earth Engine\n",
    "\n",
    "    result = {\n",
    "        'plz_code': plz_code,\n",
    "        'mean_ndvi': mean_ndvi_value\n",
    "    }\n",
    "\n",
    "    return result\n",
    "\n",
    "# Apply the function to each PLZ and collect the results\n",
    "results = []\n",
    "for plz_code, geometry in plz_geometries.items():\n",
    "    result = calculate_average_ndvi(plz_code, geometry)\n",
    "    results.append(result)\n",
    "\n",
    "# Convert the results to a pandas DataFrame\n",
    "df = pd.DataFrame(results)\n",
    "\n",
    "# Print the DataFrame\n",
    "print(df)\n",
    "\n",
    "# Save to CSV if needed\n",
    "df.to_csv('ndvi_2020_results.csv', index=False)\n"
   ]
  }
 ],
 "metadata": {
  "kernelspec": {
   "display_name": "Python 3",
   "language": "python",
   "name": "python3"
  },
  "language_info": {
   "codemirror_mode": {
    "name": "ipython",
    "version": 3
   },
   "file_extension": ".py",
   "mimetype": "text/x-python",
   "name": "python",
   "nbconvert_exporter": "python",
   "pygments_lexer": "ipython3",
   "version": "3.10.13"
  }
 },
 "nbformat": 4,
 "nbformat_minor": 2
}
