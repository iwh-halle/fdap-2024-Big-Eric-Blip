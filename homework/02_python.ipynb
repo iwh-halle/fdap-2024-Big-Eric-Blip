{
 "cells": [
  {
   "attachments": {},
   "cell_type": "markdown",
   "metadata": {},
   "source": [
    "![head.png](https://github.com/iwh-halle/FinancialDataAnalytics/blob/master/figures/head.jpg?raw=1)\n",
    "\n",
    "# Financial Data Analytics in Python\n",
    "\n",
    "**Prof. Dr. Fabian Woebbeking**</br>\n",
    "Assistant Professor of Financial Economics\n",
    "\n",
    "IWH - Leibniz Institute for Economic Research</br>\n",
    "MLU - Martin Luther University Halle-Wittenberg\n",
    "\n",
    "fabian.woebbeking@iwh-halle.de"
   ]
  },
  {
   "attachments": {},
   "cell_type": "markdown",
   "metadata": {},
   "source": [
    "# Homework Assignment\n",
    "\n",
    "You will need a Git/GitHub repository to submit your course deliverables. Consult [**slides.ipynb**](https://github.com/iwh-halle/FinancialDataAnalytics) for help with the tasks below! If you need further assistance, do not hesitate to open a Q&A at https://github.com/iwh-halle/FinancialDataAnalytics/discussions\n",
    "\n"
   ]
  },
  {
   "cell_type": "markdown",
   "metadata": {},
   "source": [
    "## Part 1: Python basics"
   ]
  },
  {
   "cell_type": "markdown",
   "metadata": {},
   "source": [
    "### Task:\n",
    "\n",
    "1. Write a function that calculates the present value as\n",
    "\n",
    "    $\\text{PV}(C_t) = \\frac{C_t}{(1+r)^t}$\n",
    "\n",
    "2. Provide a docstring for the function.\n",
    "3. Print the output for $C_{10} = 100$ and $r = 0.03$. Use string formatting to improve readability."
   ]
  },
  {
   "cell_type": "code",
   "execution_count": 2,
   "metadata": {},
   "outputs": [
    {
     "name": "stdout",
     "output_type": "stream",
     "text": [
      "The present value of cash flow for Ct= 100 with interest rate r= 0.03 amounts to 74.41\n"
     ]
    }
   ],
   "source": [
    "def pres_val(Ct,r,t):\n",
    "    \"\"\"\n",
    "    Calculate the present value of a cash flow.\n",
    "\n",
    "    Parameters:\n",
    "        Ct (float): Cash flow at time t.\n",
    "        r (float): Interest rate.\n",
    "        t (int): Time period.\n",
    "\n",
    "    Returns:\n",
    "        float: Present value of the cash flow.\n",
    "    \"\"\"\n",
    "    return Ct / ((1+r)**t)\n",
    "\n",
    "Ct=100\n",
    "r=0.03\n",
    "t=10\n",
    "\n",
    "print(f\"The present value of cash flow for Ct= {Ct} with interest rate r= {r} amounts to {pres_val(Ct,r,t):,.2f}\")\n"
   ]
  },
  {
   "cell_type": "markdown",
   "metadata": {},
   "source": [
    "### Task:\n",
    "\n",
    "Plot $\\text{PV}(C_t) = \\frac{C_t}{(1+r)^t}$, with $C_{10} = 100$, as a function of $r$ for the interval 0 to 25%."
   ]
  },
  {
   "cell_type": "code",
   "execution_count": 3,
   "metadata": {},
   "outputs": [
    {
     "data": {
      "image/png": "[encoded data removed]",
      "text/plain": [
       "<Figure size 640x480 with 1 Axes>"
      ]
     },
     "metadata": {},
     "output_type": "display_data"
    }
   ],
   "source": [
    "import numpy as np\n",
    "import matplotlib.pyplot as plt\n",
    "\n",
    "Ct=100\n",
    "t=10\n",
    "r_vals=np.linspace(0, 0.25)\n",
    "\n",
    "pv_vals=[pres_val(Ct, r, t) for r in r_vals]\n",
    "plt.plot(r_vals, pv_vals)\n",
    "plt.show()"
   ]
  },
  {
   "cell_type": "markdown",
   "metadata": {},
   "source": [
    "### Task:\n",
    "\n",
    "1. Use a loop to calculate the present value of $[10, 10, 110]$, these payments are made annually over the next three years. The interest rate is flat at $0.05$.\n",
    "2. Print the discounted cash flow in a readable format."
   ]
  },
  {
   "cell_type": "code",
   "execution_count": 4,
   "metadata": {},
   "outputs": [
    {
     "name": "stdout",
     "output_type": "stream",
     "text": [
      "The discounted Cash flow with flat interest rate 0.05 amounts to:\n",
      "\n",
      "Year 1: C1= 10\n",
      " value is 9.52$\n",
      "\n",
      "Year 2: C2= 10\n",
      " value is 9.07$\n",
      "\n",
      "Year 3: C3= 110\n",
      " value is 95.02$\n",
      "\n",
      "The total amount is 113.62$\n"
     ]
    }
   ],
   "source": [
    "#Values\n",
    "ct=[10,10,110]\n",
    "\n",
    "#Empty list to store output\n",
    "cv=[]\n",
    "\n",
    "#Interest rate\n",
    "r=0.05\n",
    "\n",
    "\n",
    "print(f\"The discounted Cash flow with flat interest rate {r} amounts to:\\n\")\n",
    "\n",
    "for t in range(3):\n",
    "\n",
    "    cv.append(pres_val(ct[t],r,t+1))\n",
    "    \n",
    "    print(f\"Year {t+1}: C{t+1}= {ct[t]}\\n value is {cv[t]:,.2f}$\\n\")\n",
    "\n",
    "print(f\"The total amount is {sum(cv):,.2f}$\")"
   ]
  },
  {
   "cell_type": "markdown",
   "metadata": {},
   "source": [
    "## Part 2: Working with data\n",
    "\n",
    "In this assignment, you will work with financial data from a CSV file and use Python libraries such as NumPy, Pandas, Matplotlib and Seaborn to analyze and visualize the data. The data is stored in a file named 02_python_data.csv, which contains daily stock prices for various companies listed on Deutsche Börse (Xetra). The columns are labeled with Reuters identifier code (RIC). The first RIC '.GDAXI' is the german DAX index, the remaining RICs represent its constituents.\n",
    "\n",
    "**Save all your visualizations as PNG files with \"02_python_\" as a prefix, e.g. \"02_python_pricechart.png\".**\n",
    "\n",
    "In general, it is a useful practice to prefix output files with the name of the generating script."
   ]
  },
  {
   "attachments": {},
   "cell_type": "markdown",
   "metadata": {},
   "source": [
    "### Task: \n",
    "\n",
    "1. Load the stock price data into a Pandas data frame called 'prices'.\n",
    "2. Calculate both arithmetic as well as logarithmic returns for all assets. Store the return data in two separate data frames, named 'returns' and 'logreturns'. \n",
    "3. Display the first 5 rows of each data frame."
   ]
  },
  {
   "attachments": {},
   "cell_type": "markdown",
   "metadata": {},
   "source": [
    "### Task:\n",
    "\n",
    "1. Plot a histogram of DAX returns.\n",
    "2. Plot both the prices as well as the returns of the DAX in one plot (you need two y axis).\n",
    "\n",
    "Hint: \n",
    "* https://matplotlib.org/stable/api/_as_gen/matplotlib.pyplot.hist.html\n",
    "* https://matplotlib.org/stable/api/_as_gen/matplotlib.pyplot.plot.html\n",
    "* https://matplotlib.org/stable/api/_as_gen/matplotlib.pyplot.subplots.html"
   ]
  },
  {
   "attachments": {},
   "cell_type": "markdown",
   "metadata": {},
   "source": [
    "### Task:\n",
    "\n",
    "Which company had the highest average stock return during the time period covered by the data?"
   ]
  },
  {
   "attachments": {},
   "cell_type": "markdown",
   "metadata": {},
   "source": [
    "### Task:\n",
    "\n",
    "Plot a [heat map](https://en.wikipedia.org/wiki/Heat_map) of the [correlations](https://en.wikipedia.org/wiki/Correlation) between the arithmetic returns of the first 10 assets (i.e. first 10 columns).\n",
    "\n",
    "Hint:\n",
    "* `returns.iloc[:10,:10]` see https://pandas.pydata.org/docs/reference/api/pandas.DataFrame.iloc.html\n",
    "* `returns.iloc[:10,:10].corr()` see https://pandas.pydata.org/docs/reference/api/pandas.DataFrame.corr.html\n",
    "* `sns.heatmap()` see https://seaborn.pydata.org/generated/seaborn.heatmap.html"
   ]
  },
  {
   "attachments": {},
   "cell_type": "markdown",
   "metadata": {},
   "source": [
    "### Task:\n",
    "\n",
    "Considering all assets in the data, pick two pairs of stocks: \n",
    "1. the pair with the highest correlation and \n",
    "2. the pair with the lowest correlation. \n",
    "3. Create [scatter plots](https://en.wikipedia.org/wiki/Scatter_plot) for both pairs."
   ]
  },
  {
   "attachments": {},
   "cell_type": "markdown",
   "metadata": {},
   "source": [
    "### Task:\n",
    "\n",
    "1. Calculate the annualized [volatility](https://en.wikipedia.org/wiki/Volatility_(finance)) and [return](https://en.wikipedia.org/wiki/Rate_of_return) of each asset in the dataset. Assume there are 252 trading days in a year. (Use log-returns!)\n",
    "2. Also calculate the [Sharpe ratio](https://en.wikipedia.org/wiki/Sharpe_ratio) for each asset, assuming a risk free rate of $0.5\\%$ p.a.."
   ]
  },
  {
   "attachments": {},
   "cell_type": "markdown",
   "metadata": {},
   "source": [
    "### Task:\n",
    "\n",
    "As you can see, we are using daily data so far. Re-sample the data to monthly frequency and plot monthly prices for 'BMWG.DE'.\n",
    "\n",
    "Hint: https://pandas.pydata.org/docs/reference/api/pandas.DataFrame.resample.html"
   ]
  }
 ],
 "metadata": {
  "kernelspec": {
   "display_name": "Python 3 (ipykernel)",
   "language": "python",
   "name": "python3"
  },
  "language_info": {
   "codemirror_mode": {
    "name": "ipython",
    "version": 3
   },
   "file_extension": ".py",
   "mimetype": "text/x-python",
   "name": "python",
   "nbconvert_exporter": "python",
   "pygments_lexer": "ipython3",
   "version": "3.10.13"
  }
 },
 "nbformat": 4,
 "nbformat_minor": 2
}
