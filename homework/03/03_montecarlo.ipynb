{
 "cells": [
  {
   "attachments": {},
   "cell_type": "markdown",
   "metadata": {},
   "source": [
    "![head.png](https://github.com/iwh-halle/FinancialDataAnalytics/blob/master/figures/head.jpg?raw=1)\n",
    "\n",
    "# Financial Data Analytics in Python\n",
    "\n",
    "**Prof. Dr. Fabian Woebbeking**</br>\n",
    "Assistant Professor of Financial Economics\n",
    "\n",
    "IWH - Leibniz Institute for Economic Research</br>\n",
    "MLU - Martin Luther University Halle-Wittenberg\n",
    "\n",
    "fabian.woebbeking@iwh-halle.de"
   ]
  },
  {
   "attachments": {},
   "cell_type": "markdown",
   "metadata": {},
   "source": [
    "# Homework\n",
    "\n",
    "You will need a Git/GitHub repository to submit your course deliverables. Consult [**slides.ipynb**](https://github.com/iwh-halle/FinancialDataAnalytics) for help with the tasks below! If you need further assistance, do not hesitate to open a Q&A at https://github.com/cafawo/FinancialDataAnalytics/discussions"
   ]
  },
  {
   "attachments": {},
   "cell_type": "markdown",
   "metadata": {},
   "source": [
    "### Task: \n",
    "\n",
    "The liquidity position of a firm measured in million is a **generalized Wiener process** with a drift of $0.1$ per month and a variance of $\\sigma^2 = 0.16$ per month. The initial cash position is $2.0$. Calculate:\n",
    "\n",
    "1. \tthe expected value and standard deviation in one, six and 12 months.\n",
    "2.\tWhat is the probability of a negative cash position in 6 and 12 months? "
   ]
  },
  {
   "cell_type": "code",
   "execution_count": 1,
   "metadata": {},
   "outputs": [
    {
     "name": "stdout",
     "output_type": "stream",
     "text": [
      "Month 1:\n",
      "Expected value: 2.1\n",
      "Standard deviation: 0.4000 \n",
      "\n",
      "Month 6:\n",
      "Expected value: 2.6\n",
      "Standard deviation: 0.9798 \n",
      "\n",
      "Month 12:\n",
      "Expected value: 3.2\n",
      "Standard deviation: 1.3856 \n",
      "\n",
      "Probability for negative cash position in month 6: 0.39817%\n",
      "Probability for negative cash position in month 12: 1.04607%\n"
     ]
    }
   ],
   "source": [
    "import numpy as np\n",
    "import pandas as pd\n",
    "from scipy import stats\n",
    "from scipy import integrate\n",
    "from scipy import optimize\n",
    "import matplotlib.pyplot as plt\n",
    "\n",
    "\n",
    "#Define values\n",
    "initial_cash_position=2\n",
    "drift=0.1\n",
    "variance=0.16\n",
    "\n",
    "#Function to return expected value of a GWP, which is equal to X0+drift*t\n",
    "def expected_value_gwp(t,initial_cash_pos,drift):\n",
    "    return initial_cash_pos+drift*t\n",
    "    \n",
    "#Function to return std dev of a GWP, which is equal to sqrt(var*t)\n",
    "def standard_deviation_gwp(t,var):\n",
    "    return np.sqrt(var*t)\n",
    "\n",
    "#1 Print the values for months 1,6,12\n",
    "for month in [1,6,12]:\n",
    "    print(f\"Month {month}:\")\n",
    "    print(f\"Expected value: {expected_value_gwp(month,initial_cash_position,drift)}\")\n",
    "    print(f\"Standard deviation: {standard_deviation_gwp(month,variance):,.4f} \\n\")    \n",
    "\n",
    "#2 Probability P(X<=0) is equal to the Cumulative Distribution Function CDF(0)\n",
    "#In a GWP, the liquidity position at any time t is normally distributed with mean E[X(t)] and variance Var[X(t)]\n",
    "for month in [6,12]:\n",
    "    mu=expected_value_gwp(month,initial_cash_position,drift)\n",
    "    sigma=standard_deviation_gwp(month,variance)\n",
    "    probability=stats.norm.cdf(0,mu,sigma)\n",
    "    print(f\"Probability for negative cash position in month {month}: {probability*100:,.5f}%\")"
   ]
  },
  {
   "attachments": {},
   "cell_type": "markdown",
   "metadata": {},
   "source": [
    "### Task: \n",
    "\n",
    "The cash flow of a [call option](https://en.wikipedia.org/wiki/Call_option) with strike $K$ at maturity $T$ is given by\n",
    "\n",
    "$$\n",
    "max(S_T - K, 0) = (S_T - K)^+\n",
    "$$\n",
    "\n",
    "where $S_T$ is the price of the underlying at $T$. The price of the option under the [risk-neutral measure](https://en.wikipedia.org/wiki/Risk-neutral_measure) $\\mathbb{Q}$ is simply its discounted expected value\n",
    "$$\n",
    "\\mathbb{E}^\\mathbb{Q}[(S_T - K)^+] e^{-rT}.\n",
    "$$\n",
    "\n",
    "\n",
    "Calculate the price of the option, using:\n",
    "1. numerical integration and\n",
    "2. Monte carlo simulation.\n",
    "\n",
    "For you calculations, assume that todays price of the underlying is $S_0 = 220$, the strike is $K = 220$, volatility is $\\sigma = 0.98$, the risk free rate is $r = 10\\%$ (continuous) and maturity is one year. We further assume that the underlying $S$ follows a **Geometric Brownian motion**.\n",
    "\n",
    "Hint: The terminal stock price $S_T$, under the risk-neutral measure, follows a log-normal distribution with PDF\n",
    "\n",
    "$$f(x) = \\frac{1}{x s \\sqrt{2 \\pi}} \\exp\\left( -\\frac{(\\ln x - \\mu)^2}{2 s^2} \\right) $$\n",
    "\n",
    "where $\\mu = \\ln S_0 + (r-\\sigma^2 / 2)T$ and variance $s^2 = \\sigma^2 T$.\n"
   ]
  },
  {
   "cell_type": "code",
   "execution_count": 2,
   "metadata": {},
   "outputs": [
    {
     "name": "stdout",
     "output_type": "stream",
     "text": [
      "The price of the option calculated by numerical integration is 89.60$\n"
     ]
    }
   ],
   "source": [
    "#Calculation using numeric integration\n",
    "\n",
    "s_zero=220\n",
    "strike_K=220\n",
    "volatility_sigma=0.98\n",
    "risk_free_rate=0.1\n",
    "maturity_T=1\n",
    "\n",
    "def pdf_terminal_stock_price(x,s_zero,sigma,T,r):\n",
    "    mu=np.log(s_zero)+(r-(sigma**2)/2)*T\n",
    "    s_square=T*sigma**2\n",
    "    return ( 1 / (x * np.sqrt(s_square*2*np.pi)))*np.exp(-((np.log(x)-mu)**2)/(2*s_square) )\n",
    "\n",
    "def payoff(s_t):\n",
    "    return np.maximum(s_t - strike_K, 0)\n",
    "\n",
    "#Expected value: Integral from 0 to +inf\n",
    "expected_payoff, _ = integrate.quad(lambda x: payoff(x) * pdf_terminal_stock_price(x,s_zero,volatility_sigma,maturity_T,risk_free_rate), 0, np.inf)\n",
    "\n",
    "price=expected_payoff*np.exp(-risk_free_rate*maturity_T)\n",
    "\n",
    "print(f\"The price of the option calculated by numerical integration is {price:,.2f}$\")"
   ]
  },
  {
   "cell_type": "code",
   "execution_count": 3,
   "metadata": {},
   "outputs": [],
   "source": [
    "#Calculation using Monte-Carlo-Simulation\n",
    "\n",
    "s_zero=220\n",
    "strike_K=220\n",
    "volatility_sigma=0.98\n",
    "risk_free_rate=0.1\n",
    "maturity_T=1\n",
    "\n",
    "def pdf_terminal_stock_price(x):\n",
    "    mu=np.log(s_zero)+(r-(volatility_sigma**2)/2)*maturity_T\n",
    "    s_square=maturity_T*volatility_sigma**2\n",
    "    return ( 1 / (x * np.sqrt(s_square*2*np.pi)))*np.exp(-((np.log(x)-mu)**2)/(2*s_square) )\n",
    "\n",
    "def geometric_brownian_motion_sol(s_zero,risk_free_rate_r,volatility_sigma,T):\n",
    "    s_zero*np.exp((risk_free_rate_r-0.5*volatility_sigma**2)*T+volatility_sigma*np.sqrt(T)*np.random.normal(0, 1, 1))"
   ]
  }
 ],
 "metadata": {
  "kernelspec": {
   "display_name": "Python 3 (ipykernel)",
   "language": "python",
   "name": "python3"
  },
  "language_info": {
   "codemirror_mode": {
    "name": "ipython",
    "version": 3
   },
   "file_extension": ".py",
   "mimetype": "text/x-python",
   "name": "python",
   "nbconvert_exporter": "python",
   "pygments_lexer": "ipython3",
   "version": "3.10.13"
  }
 },
 "nbformat": 4,
 "nbformat_minor": 2
}
